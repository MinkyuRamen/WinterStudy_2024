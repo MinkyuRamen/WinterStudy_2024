{
 "cells": [
  {
   "cell_type": "code",
   "execution_count": 14,
   "metadata": {},
   "outputs": [],
   "source": [
    "import numpy as np\n",
    "import torch\n",
    "import torch.nn as nn\n",
    "\n",
    "import math"
   ]
  },
  {
   "cell_type": "markdown",
   "metadata": {},
   "source": [
    "### np.repeat"
   ]
  },
  {
   "cell_type": "code",
   "execution_count": 6,
   "metadata": {},
   "outputs": [
    {
     "name": "stdout",
     "output_type": "stream",
     "text": [
      "[[[1 2]\n",
      "  [3 4]]\n",
      "\n",
      " [[5 6]\n",
      "  [7 8]]]\n",
      "________\n"
     ]
    }
   ],
   "source": [
    "arr = np.array([[[1,2],[3,4]], [[5,6],[7,8]]])\n",
    "print(arr)\n",
    "print('________')"
   ]
  },
  {
   "cell_type": "code",
   "execution_count": 7,
   "metadata": {},
   "outputs": [
    {
     "name": "stdout",
     "output_type": "stream",
     "text": [
      "[[[1 2]\n",
      "  [3 4]]\n",
      "\n",
      " [[1 2]\n",
      "  [3 4]]\n",
      "\n",
      " [[5 6]\n",
      "  [7 8]]\n",
      "\n",
      " [[5 6]\n",
      "  [7 8]]]\n",
      "________\n",
      "[[[1 2]\n",
      "  [1 2]\n",
      "  [3 4]\n",
      "  [3 4]]\n",
      "\n",
      " [[5 6]\n",
      "  [5 6]\n",
      "  [7 8]\n",
      "  [7 8]]]\n",
      "________\n",
      "[[[1 1 2 2]\n",
      "  [3 3 4 4]]\n",
      "\n",
      " [[5 5 6 6]\n",
      "  [7 7 8 8]]]\n"
     ]
    }
   ],
   "source": [
    "print(np.repeat(arr, repeats=2, axis=0))\n",
    "print('________')\n",
    "print(np.repeat(arr, repeats=2, axis=1))\n",
    "print('________')\n",
    "print(np.repeat(arr, repeats=2, axis=2))"
   ]
  },
  {
   "cell_type": "markdown",
   "metadata": {},
   "source": [
    "### np.array().rehsape"
   ]
  },
  {
   "cell_type": "code",
   "execution_count": 15,
   "metadata": {},
   "outputs": [
    {
     "name": "stdout",
     "output_type": "stream",
     "text": [
      "[[[1]\n",
      "  [2]\n",
      "  [3]]\n",
      "\n",
      " [[1]\n",
      "  [2]\n",
      "  [3]]\n",
      "\n",
      " [[1]\n",
      "  [2]\n",
      "  [3]]]\n",
      "________\n",
      "[[[1]\n",
      "  [1]\n",
      "  [1]]\n",
      "\n",
      " [[2]\n",
      "  [2]\n",
      "  [2]]\n",
      "\n",
      " [[3]\n",
      "  [3]\n",
      "  [3]]]\n"
     ]
    }
   ],
   "source": [
    "arr = np.array([1,2,3])\n",
    "X = np.repeat(arr.reshape(1,-1,1), repeats=arr.shape[0], axis=0)\n",
    "x = np.repeat(arr.reshape(-1,1,1), repeats=arr.shape[0], axis=1)\n",
    "\n",
    "print(X)\n",
    "print('________')\n",
    "print(x)"
   ]
  },
  {
   "cell_type": "code",
   "execution_count": 22,
   "metadata": {},
   "outputs": [
    {
     "name": "stdout",
     "output_type": "stream",
     "text": [
      "[[[1 2]\n",
      "  [3 4]]\n",
      "\n",
      " [[5 6]\n",
      "  [7 8]]]\n",
      "________\n",
      "[[[1]]\n",
      "\n",
      " [[2]]\n",
      "\n",
      " [[3]]\n",
      "\n",
      " [[4]]\n",
      "\n",
      " [[5]]\n",
      "\n",
      " [[6]]\n",
      "\n",
      " [[7]]\n",
      "\n",
      " [[8]]]\n",
      "________\n"
     ]
    }
   ],
   "source": [
    "arr = np.array([[[1,2],[3,4]],[[5,6],[7,8]]])\n",
    "print(arr)\n",
    "print('________')\n",
    "print(arr.reshape(-1,1,1))\n",
    "print('________')\n"
   ]
  },
  {
   "cell_type": "code",
   "execution_count": 23,
   "metadata": {},
   "outputs": [
    {
     "name": "stdout",
     "output_type": "stream",
     "text": [
      "[[[1]\n",
      "  [2]\n",
      "  [3]\n",
      "  [4]\n",
      "  [5]\n",
      "  [6]\n",
      "  [7]\n",
      "  [8]]]\n",
      "________\n",
      "[[[1 2 3 4 5 6 7 8]]]\n",
      "________\n"
     ]
    }
   ],
   "source": [
    "print(arr.reshape(1,-1,1))\n",
    "print('________')\n",
    "print(arr.reshape(1,1,-1))\n",
    "print('________')"
   ]
  },
  {
   "cell_type": "markdown",
   "metadata": {},
   "source": [
    "# torch"
   ]
  },
  {
   "cell_type": "markdown",
   "metadata": {},
   "source": [
    "### torch.inner"
   ]
  },
  {
   "cell_type": "code",
   "execution_count": 5,
   "metadata": {},
   "outputs": [
    {
     "name": "stdout",
     "output_type": "stream",
     "text": [
      "query size:  torch.Size([2, 4, 3])\n",
      "key size:  torch.Size([2, 4, 3])\n"
     ]
    }
   ],
   "source": [
    "q = torch.Tensor([[[1, 1, 1], [0, -1, -1], [1, 2, 3], [-1, -2, -3]]\n",
    "                  ,[[0, 1, 1], [0, -1, -1], [4, 5, 6], [-4, -5, -6]]]) # query\n",
    "k = torch.Tensor([[[0, 1, 1], [0, -1, -1], [1, 2, 3], [-1, -2, -3]]\n",
    "                  ,[[0, 1, 1], [0, -1, -1], [4, 5, 6], [-4, -5, -6]]]) # key\n",
    "\n",
    "print(\"query size: \", q.size())\n",
    "print(\"key size: \", k.size())"
   ]
  },
  {
   "cell_type": "code",
   "execution_count": 6,
   "metadata": {},
   "outputs": [
    {
     "data": {
      "text/plain": [
       "torch.Size([2, 4, 2, 4])"
      ]
     },
     "execution_count": 6,
     "metadata": {},
     "output_type": "execute_result"
    }
   ],
   "source": [
    "torch.inner(q,k).shape"
   ]
  },
  {
   "cell_type": "code",
   "execution_count": 7,
   "metadata": {},
   "outputs": [
    {
     "name": "stdout",
     "output_type": "stream",
     "text": [
      "torch.Size([2, 4, 4])\n",
      "tensor([[[  2.,  -2.,   6.,  -6.],\n",
      "         [ -2.,   2.,  -5.,   5.],\n",
      "         [  5.,  -5.,  14., -14.],\n",
      "         [ -5.,   5., -14.,  14.]],\n",
      "\n",
      "        [[  2.,  -2.,  11., -11.],\n",
      "         [ -2.,   2., -11.,  11.],\n",
      "         [ 11., -11.,  77., -77.],\n",
      "         [-11.,  11., -77.,  77.]]])\n"
     ]
    }
   ],
   "source": [
    "print(torch.matmul(q, k.transpose(-2, -1)).shape)\n",
    "print(torch.matmul(q, k.transpose(-2, -1)))"
   ]
  },
  {
   "cell_type": "code",
   "execution_count": 8,
   "metadata": {},
   "outputs": [
    {
     "name": "stdout",
     "output_type": "stream",
     "text": [
      "torch.Size([2, 4, 4])\n"
     ]
    },
    {
     "data": {
      "text/plain": [
       "tensor([[[  2.,  -2.,   6.,  -6.],\n",
       "         [ -2.,   2.,  -5.,   5.],\n",
       "         [  5.,  -5.,  14., -14.],\n",
       "         [ -5.,   5., -14.,  14.]],\n",
       "\n",
       "        [[  2.,  -2.,  11., -11.],\n",
       "         [ -2.,   2., -11.,  11.],\n",
       "         [ 11., -11.,  77., -77.],\n",
       "         [-11.,  11., -77.,  77.]]])"
      ]
     },
     "execution_count": 8,
     "metadata": {},
     "output_type": "execute_result"
    }
   ],
   "source": [
    "print(torch.bmm(q, k.transpose(-2, -1)).shape)\n",
    "torch.bmm(q, k.transpose(-2, -1))"
   ]
  },
  {
   "cell_type": "code",
   "execution_count": 9,
   "metadata": {},
   "outputs": [
    {
     "name": "stdout",
     "output_type": "stream",
     "text": [
      "torch.Size([2, 4, 3])\n",
      "tensor([[[ 0.,  1.,  1.],\n",
      "         [ 0., -1., -1.],\n",
      "         [ 1.,  2.,  3.],\n",
      "         [-1., -2., -3.]],\n",
      "\n",
      "        [[ 0.,  1.,  1.],\n",
      "         [ 0., -1., -1.],\n",
      "         [ 4.,  5.,  6.],\n",
      "         [-4., -5., -6.]]])\n",
      "________________________________\n",
      "torch.Size([2, 3, 4])\n",
      "tensor([[[ 0.,  0.,  1., -1.],\n",
      "         [ 1., -1.,  2., -2.],\n",
      "         [ 1., -1.,  3., -3.]],\n",
      "\n",
      "        [[ 0.,  0.,  4., -4.],\n",
      "         [ 1., -1.,  5., -5.],\n",
      "         [ 1., -1.,  6., -6.]]])\n"
     ]
    }
   ],
   "source": [
    "print(k.shape)\n",
    "print(k)\n",
    "print('________________________________')\n",
    "print(k.transpose(-2, -1).shape)\n",
    "print(k.transpose(-2, -1))"
   ]
  },
  {
   "cell_type": "code",
   "execution_count": 13,
   "metadata": {},
   "outputs": [
    {
     "data": {
      "text/plain": [
       "tensor([[[  2.,  -2.,   6.,  -6.],\n",
       "         [ -2.,   2.,  -5.,   5.],\n",
       "         [  5.,  -5.,  14., -14.],\n",
       "         [ -5.,   5., -14.,  14.]],\n",
       "\n",
       "        [[  2.,  -2.,  11., -11.],\n",
       "         [ -2.,   2., -11.,  11.],\n",
       "         [ 11., -11.,  77., -77.],\n",
       "         [-11.,  11., -77.,  77.]]])"
      ]
     },
     "execution_count": 13,
     "metadata": {},
     "output_type": "execute_result"
    }
   ],
   "source": [
    "torch.einsum('bij,bkj->bik', q, k)"
   ]
  },
  {
   "cell_type": "code",
   "execution_count": 11,
   "metadata": {},
   "outputs": [
    {
     "name": "stdout",
     "output_type": "stream",
     "text": [
      "tensor([[[  2.,  -2.,   6.,  -6.],\n",
      "         [ -2.,   2.,  -5.,   5.],\n",
      "         [  5.,  -5.,  14., -14.],\n",
      "         [ -5.,   5., -14.,  14.]],\n",
      "\n",
      "        [[  2.,  -2.,  11., -11.],\n",
      "         [ -2.,   2., -11.,  11.],\n",
      "         [ 11., -11.,  77., -77.],\n",
      "         [-11.,  11., -77.,  77.]]])\n"
     ]
    }
   ],
   "source": [
    "print(torch.matmul(q, k.transpose(-2, -1)))"
   ]
  },
  {
   "cell_type": "markdown",
   "metadata": {},
   "source": [
    "LazyLinear"
   ]
  },
  {
   "cell_type": "code",
   "execution_count": 18,
   "metadata": {},
   "outputs": [
    {
     "name": "stdout",
     "output_type": "stream",
     "text": [
      "torch.Size([1, 2, 3])\n",
      "torch.Size([1, 2, 10])\n"
     ]
    }
   ],
   "source": [
    "tensor = torch.Tensor([[[1, 2, 3], [1, 2, 3]]])\n",
    "Position_FFN_lazy = nn.LazyLinear(10)\n",
    "out_l = Position_FFN_lazy(tensor)\n",
    "print(tensor.shape) # [1, 2, 3]\n",
    "print(out_l.shape) # [1, 2, 10]"
   ]
  },
  {
   "cell_type": "code",
   "execution_count": 19,
   "metadata": {},
   "outputs": [
    {
     "name": "stdout",
     "output_type": "stream",
     "text": [
      "tensor([[[ 0.3929,  0.4674,  0.5755, -0.8578,  0.6716, -0.2799, -1.3265,\n",
      "           2.0814,  0.9242,  1.8684],\n",
      "         [ 0.3929,  0.4674,  0.5755, -0.8578,  0.6716, -0.2799, -1.3265,\n",
      "           2.0814,  0.9242,  1.8684]]], grad_fn=<ViewBackward0>)\n"
     ]
    }
   ],
   "source": [
    "print(out_l)"
   ]
  },
  {
   "cell_type": "code",
   "execution_count": null,
   "metadata": {},
   "outputs": [],
   "source": []
  }
 ],
 "metadata": {
  "kernelspec": {
   "display_name": "llmenv",
   "language": "python",
   "name": "python3"
  },
  "language_info": {
   "codemirror_mode": {
    "name": "ipython",
    "version": 3
   },
   "file_extension": ".py",
   "mimetype": "text/x-python",
   "name": "python",
   "nbconvert_exporter": "python",
   "pygments_lexer": "ipython3",
   "version": "3.10.13"
  }
 },
 "nbformat": 4,
 "nbformat_minor": 2
}
