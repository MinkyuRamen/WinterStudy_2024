{
 "cells": [
  {
   "cell_type": "markdown",
   "metadata": {},
   "source": [
    "### Attribute, Method"
   ]
  },
  {
   "cell_type": "markdown",
   "metadata": {},
   "source": [
    "class atrribute vs instance attribute"
   ]
  },
  {
   "cell_type": "code",
   "execution_count": 1,
   "metadata": {},
   "outputs": [
    {
     "name": "stdout",
     "output_type": "stream",
     "text": [
      "78.53975\n",
      "5\n",
      "3.14159\n"
     ]
    }
   ],
   "source": [
    "class Circle:\n",
    "    pi = 3.14159  # class attribute\n",
    "\n",
    "    def __init__(self, radius):\n",
    "        self.radius = radius  # instance attribute\n",
    "\n",
    "    def calculate_area(self):\n",
    "        return Circle.pi * self.radius ** 2\n",
    "\n",
    "\n",
    "circle1 = Circle(5)\n",
    "\n",
    "print(circle1.calculate_area())\n",
    "print(circle1.radius)\n",
    "print(Circle.pi)"
   ]
  },
  {
   "cell_type": "markdown",
   "metadata": {},
   "source": [
    "instance attribute vs instance method"
   ]
  },
  {
   "cell_type": "code",
   "execution_count": 2,
   "metadata": {},
   "outputs": [
    {
     "name": "stdout",
     "output_type": "stream",
     "text": [
      "직사각형의 넓이: 20\n"
     ]
    }
   ],
   "source": [
    "class Rectangle:\n",
    "    def __init__(self, width, height):\n",
    "        self.width = width\n",
    "        self.height = height\n",
    "\n",
    "    def calculate_area(self): # instance method\n",
    "        return self.width * self.height  # use instance attrbute >> self.width, self.height\n",
    "\n",
    "rectangle = Rectangle(5, 4)\n",
    "area = rectangle.calculate_area()  # call instance method\n",
    "print(\"직사각형의 넓이:\", area)"
   ]
  },
  {
   "cell_type": "markdown",
   "metadata": {},
   "source": [
    "instance method"
   ]
  },
  {
   "cell_type": "code",
   "execution_count": 17,
   "metadata": {},
   "outputs": [
    {
     "name": "stdout",
     "output_type": "stream",
     "text": [
      "0\n",
      "3\n",
      "1\n"
     ]
    }
   ],
   "source": [
    "class Counter:\n",
    "    def __init__(self, value = 0): # instance method\n",
    "        self.value = value\n",
    "\n",
    "    def increment(self, delta = 1): # instance method\n",
    "        self.value += delta\n",
    "\n",
    "    def decrement(self, delta = 1): # instance method\n",
    "        self.value -= delta\n",
    "\n",
    "counter = Counter()\n",
    "print(counter.value)\n",
    "\n",
    "counter.increment(3)\n",
    "print(counter.value)\n",
    "\n",
    "counter.decrement(2)\n",
    "print(counter.value)"
   ]
  },
  {
   "cell_type": "markdown",
   "metadata": {},
   "source": [
    "class method"
   ]
  },
  {
   "cell_type": "code",
   "execution_count": 14,
   "metadata": {},
   "outputs": [
    {
     "name": "stdout",
     "output_type": "stream",
     "text": [
      "user@gmail.com\n",
      "1234\n",
      "\n",
      "user@gmail.com\n",
      "1234\n",
      "\n",
      "user@gmail.com\n",
      "1234\n"
     ]
    }
   ],
   "source": [
    "class User:\n",
    "    def __init__(self, email, password): # instance method\n",
    "        self.email = email\n",
    "        self.password = password\n",
    "\n",
    "    @classmethod\n",
    "    def fromList(cls, lst): # class method\n",
    "        return cls(lst[0], lst[1])\n",
    "\n",
    "    @classmethod\n",
    "    def fromDictionary(cls, dic): # class method\n",
    "        return cls(dic[\"email\"], dic[\"password\"])\n",
    "    \n",
    "# instance method로 객체 생성\n",
    "user = User(\"user@gmail.com\", \"1234\")\n",
    "print(user.email)\n",
    "print(user.password)\n",
    "print()\n",
    "\n",
    "# class merhod(fromList)로 객체 생성\n",
    "user = User.fromList([\"user@gmail.com\", \"1234\", \"?\"])\n",
    "print(user.email)\n",
    "print(user.password)\n",
    "print()\n",
    "\n",
    "# class merhod(fromDictionary)로 객체 생성\n",
    "user = User.fromDictionary({\"email\": \"user@gmail.com\", \"password\": \"1234\", \"else\": \"?\"})\n",
    "print(user.email)\n",
    "print(user.password)"
   ]
  },
  {
   "cell_type": "markdown",
   "metadata": {},
   "source": [
    "static method"
   ]
  },
  {
   "cell_type": "code",
   "execution_count": 2,
   "metadata": {},
   "outputs": [
    {
     "name": "stdout",
     "output_type": "stream",
     "text": [
      "lastModifiedDate\n",
      "last_modified_date\n"
     ]
    }
   ],
   "source": [
    "class StringUtils:\n",
    "    @staticmethod\n",
    "    def toCamelcase(text): # static method\n",
    "        words = iter(text.split(\"_\"))\n",
    "        return next(words) + \"\".join(i.title() for i in words)\n",
    "\n",
    "    @staticmethod\n",
    "    def toSnakecase(text): # static method\n",
    "        letters = [\"_\" + i.lower() if i.isupper() else i for i in text]\n",
    "        return \"\".join(letters).lstrip(\"_\")\n",
    "    \n",
    "camel = StringUtils.toCamelcase(\"last_modified_date\")\n",
    "print(camel)\n",
    "\n",
    "snake = StringUtils.toSnakecase(camel)\n",
    "print(snake)"
   ]
  },
  {
   "cell_type": "code",
   "execution_count": null,
   "metadata": {},
   "outputs": [],
   "source": []
  }
 ],
 "metadata": {
  "kernelspec": {
   "display_name": "llmenv",
   "language": "python",
   "name": "python3"
  },
  "language_info": {
   "codemirror_mode": {
    "name": "ipython",
    "version": 3
   },
   "file_extension": ".py",
   "mimetype": "text/x-python",
   "name": "python",
   "nbconvert_exporter": "python",
   "pygments_lexer": "ipython3",
   "version": "3.10.13"
  }
 },
 "nbformat": 4,
 "nbformat_minor": 2
}
